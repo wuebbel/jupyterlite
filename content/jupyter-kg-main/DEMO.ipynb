{
  "metadata": {
    "kernelspec": {
      "name": "python",
      "display_name": "Python (Pyodide)",
      "language": "python"
    },
    "language_info": {
      "codemirror_mode": {
        "name": "python",
        "version": 3
      },
      "file_extension": ".py",
      "mimetype": "text/x-python",
      "name": "python",
      "nbconvert_exporter": "python",
      "pygments_lexer": "ipython3",
      "version": "3.8"
    }
  },
  "nbformat_minor": 4,
  "nbformat": 4,
  "cells": [
    {
      "cell_type": "code",
      "source": "%pip install ipycytoscape\n%pip install rdflib\n%pip install rich==12.0.0\n# import micropip\n# await micropip.install(\"networkx\")\n%pip install networkx\nfrom jupyter_kg import parse_graph, print_sparql_results, visualize_graph",
      "metadata": {
        "trusted": true
      },
      "execution_count": 1,
      "outputs": []
    },
    {
      "cell_type": "code",
      "source": "turtle = '''\n<http://example.org/person/Mark_Twain>\n   <http://example.org/relation/author>\n   <http://example.org/books/Huckleberry_Finn> .\n<http://example.org/person/Mark_Twain>\n   <http://example.org/relation/author>\n   <http://example.org/books/Tom_Sawyer> .\n'''\ngraph = parse_graph(turtle)",
      "metadata": {
        "trusted": true
      },
      "execution_count": 2,
      "outputs": []
    },
    {
      "cell_type": "code",
      "source": "sparql = '''\nSELECT ?author ?book WHERE {\n     ?author <http://example.org/relation/author> ?book .\n}\n'''\nprint_sparql_results(graph, sparql)",
      "metadata": {
        "trusted": true
      },
      "execution_count": 3,
      "outputs": [
        {
          "name": "stdout",
          "text": "┏━━━━━━━━━━━━━━━━━━━━━━━━━━━━━━━━━━━━━━┳━━━━━━━━━━━━━━━━━━━━━━━━━━━━━━━━━━━━━━━┓\n┃ author                               ┃ book                                  ┃\n┡━━━━━━━━━━━━━━━━━━━━━━━━━━━━━━━━━━━━━━╇━━━━━━━━━━━━━━━━━━━━━━━━━━━━━━━━━━━━━━━┩\n│ http://example.org/person/Mark_Twain │ http://example.org/books/Huckleberry… │\n│ http://example.org/person/Mark_Twain │ http://example.org/books/Tom_Sawyer   │\n└──────────────────────────────────────┴───────────────────────────────────────┘\n",
          "output_type": "stream"
        }
      ]
    },
    {
      "cell_type": "code",
      "source": "visualize_graph(graph)",
      "metadata": {
        "trusted": true
      },
      "execution_count": 4,
      "outputs": [
        {
          "execution_count": 4,
          "output_type": "execute_result",
          "data": {
            "text/plain": "CytoscapeWidget(cytoscape_layout={'name': 'cola'}, cytoscape_style=[{'selector': 'node', 'css': {'background-c…",
            "application/vnd.jupyter.widget-view+json": {
              "version_major": 2,
              "version_minor": 0,
              "model_id": "7d453cc368b24af8969cf45f431bbcc8"
            }
          },
          "metadata": {}
        }
      ]
    },
    {
      "cell_type": "code",
      "source": "",
      "metadata": {
        "trusted": true
      },
      "execution_count": null,
      "outputs": []
    },
    {
      "cell_type": "code",
      "source": "",
      "metadata": {
        "trusted": true
      },
      "execution_count": null,
      "outputs": []
    },
    {
      "cell_type": "code",
      "source": "",
      "metadata": {},
      "execution_count": null,
      "outputs": []
    }
  ]
}