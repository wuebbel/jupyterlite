{
 "cells": [
  {
   "cell_type": "code",
   "execution_count": null,
   "metadata": {},
   "outputs": [],
   "source": [
    "from jupyter_kg import parse_graph, print_sparql_results, visualize_graph"
   ]
  },
  {
   "cell_type": "code",
   "execution_count": null,
   "metadata": {},
   "outputs": [],
   "source": [
    "turtle = '''\n",
    "<http://example.org/person/Mark_Twain>\n",
    "   <http://example.org/relation/author>\n",
    "   <http://example.org/books/Huckleberry_Finn> .\n",
    "<http://example.org/person/Mark_Twain>\n",
    "   <http://example.org/relation/author>\n",
    "   <http://example.org/books/Tom_Sawyer> .\n",
    "'''\n",
    "graph = parse_graph(turtle)"
   ]
  },
  {
   "cell_type": "code",
   "execution_count": null,
   "metadata": {},
   "outputs": [],
   "source": [
    "sparql = '''\n",
    "SELECT ?author ?book WHERE {\n",
    "     ?author <http://example.org/relation/author> ?book .\n",
    "}\n",
    "'''\n",
    "print_sparql_results(graph, sparql)"
   ]
  },
  {
   "cell_type": "code",
   "execution_count": null,
   "metadata": {},
   "outputs": [],
   "source": [
    "visualize_graph(graph)"
   ]
  },
  {
   "cell_type": "code",
   "execution_count": null,
   "metadata": {},
   "outputs": [],
   "source": []
  }
 ],
 "metadata": {
  "kernelspec": {
   "display_name": "Python 3 (ipykernel)",
   "language": "python",
   "name": "python3"
  },
  "language_info": {
   "codemirror_mode": {
    "name": "ipython",
    "version": 3
   },
   "file_extension": ".py",
   "mimetype": "text/x-python",
   "name": "python",
   "nbconvert_exporter": "python",
   "pygments_lexer": "ipython3",
   "version": "3.10.7"
  }
 },
 "nbformat": 4,
 "nbformat_minor": 1
}
