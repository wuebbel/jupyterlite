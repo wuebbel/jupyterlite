{
  "metadata": {
    "kernelspec": {
      "name": "python",
      "display_name": "Python (Pyodide)",
      "language": "python"
    },
    "language_info": {
      "codemirror_mode": {
        "name": "python",
        "version": 3
      },
      "file_extension": ".py",
      "mimetype": "text/x-python",
      "name": "python",
      "nbconvert_exporter": "python",
      "pygments_lexer": "ipython3",
      "version": "3.8"
    }
  },
  "nbformat_minor": 4,
  "nbformat": 4,
  "cells": [
    {
      "cell_type": "code",
      "source": "%pip install ipycytoscape\n%pip install rdflib\n%pip install rich==12.0.0\n# import micropip\n# await micropip.install(\"networkx\")\n%pip install networkx\nfrom jupyter_kg import parse_graph, print_sparql_results, visualize_graph",
      "metadata": {
        "trusted": true
      },
      "execution_count": null,
      "outputs": []
    },
    {
      "cell_type": "code",
      "source": "turtle = '''\nprefix algodata: <https://mardi4nfdi.de/algodata/0.1#>\nprefix algograph: <https://mardi4nfdi.de/algodata/0.1/graph/>\nprefix al: <https://mardi4nfdi.de/algodata/0.1/algorithm#>\nprefix bm: <https://mardi4nfdi.de/algodata/0.1/benchmark#>\nprefix dc: <http://purl.org/spar/datacite/>\nprefix dcterms: <http://purl.org/dc/terms/>\nprefix doi: <https://doi.org/>\nprefix graph: <https://mardi4nfdi.de/algodata/0.1/graph/>\nprefix : <https://mardi4nfdi.de/algodata/0.1#>\nprefix jstor: <https://www.jstor.org/stable/>\nprefix morwiki: <https://modelreduction.org/>\nprefix owl: <http://www.w3.org/2002/07/owl#>\nprefix pb: <https://mardi4nfdi.de/algodata/0.1/publication#>\nprefix pr: <https://mardi4nfdi.de/algodata/0.1/problem#>\nprefix rdf: <http://www.w3.org/1999/02/22-rdf-syntax-ns#>\nprefix rdfs: <http://www.w3.org/2000/01/rdf-schema#>\nprefix skos: <http://www.w3.org/2004/02/skos/core#>\nprefix sw: <https://mardi4nfdi.de/algodata/0.1/software#>\nprefix swmath: <https://swmath.org/software/>\nprefix xsd: <http://www.w3.org/2001/XMLSchema#>\nal:ART a :algorithm .\nal:ART :category algograph:tomo .\nal:ART  rdfs:label \"Algebraic reconstruction technique\", \"ART\" .\nal:ART  :solves pr:CT .\nal:FBP a :algorithm .\nal:FBP :category algograph:tomo .\nal:FBP rdfs:label \"Filtered Backprojection\", \"FBP\" .\nal:FBP :solves pr:CT, pr:Emission .\nal:MLEM a :algorithm .\nal:MLEM :category algograph:tomo .\nal:MLEM rdfs:label \"Maximum likelihood expectation maximization\", \"MLEM\", \"EM\" .\nal:MLEM :solves pr:Emission .\nal:OSEM a :algorithm .\nal:OSEM :category algograph:tomo .\nal:OSEM rdfs:label \"Ordered subset expectation maximization\", \"OSEM\" .\nal:OSEM :solves pr:Emission .\npb:Buz2011 :category algograph:tomo .\npb:Buz2011 dc:hasIdentifier \"doi:10.1007/978-3-540-74658-4_16\" .\npb:Buz2011 rdfs:label \"Buzug (2011) Computed Tomography\" .\npb:Buz2011    :analyzes al:ART, al:FBP .\npb:Buz2011 a :publication .\npb:Buz2011 :category algograph:tomo .\npb:Kak2001 :category algograph:tomo .\npb:Kak2001 dc:hasIdentifier \"doi:10.1137/1.9780898719277\" .\npb:Kak2001 rdfs:label \"Kak, Slaney (2001) Principles of Computerized Tomographic Imaging\" .\npb:Kak2001 :analyzes al:ART, al:FBP .\npb:Kak2001 a :publication .\npb:Kak2001 :category algograph:tomo .\npb:Kos2011 a algodata:publication .\npb:Kos2011 :category algograph:tomo .\npb:Kos2011 dc:hasIdentifier \"doi:10.1109/nssmic.2011.6153840\" .\npb:Kos2011 rdfs:label \"Kosters, Schafers, Wubbeling (2011) EMRECON: An expectation maximization based image reconstruction framework for emission tomography data\" .\npb:Nat2001 :category algograph:tomo .\npb:Nat2001 dc:hasIdentifier \"doi:10.1137/1.9780898719284\" .\npb:Nat2001 rdfs:label \"Natterer (2001) The Mathematics of Computerized Tomography\" .\npb:Nat2001 :analyzes al:ART, al:OSEM, al:MLEM,al:FBP .\npb:Nat2001 a :publication .\npb:Nat2001 :category algograph:tomo .\npb:van2015 a algodata:publication .\npb:van2015 :category algograph:tomo .\npb:van2015 dc:hasIdentifier \"doi:10.1016/j.ultramic.2015.05.002\" .\npb:van2015 rdfs:label \"van Aarle, Palenstijn, De Beenhouwer, Altantzis, Bals, Batenburg, Sijbers (2015) The ASTRA Toolbox: A platform for advanced algorithm development in electron tomography\" .\npr:CT a :problem .\npr:CT :category algograph:tomo .\npr:CT rdfs:label \"Computerized Tomography\" .\npr:CT :specializes pr:Tomo .\npr:Emission a :problem .\npr:Emission :category algograph:tomo .\npr:Emission rdfs:label \"Emission Tomography\" .\npr:Emission :specializes pr:Tomo .\npr:Tomo a :problem .\npr:Tomo :category algograph:tomo .\npr:Tomo rdfs:label \"Tomography\" .\nsw:astra a :software .\nsw:astra :category algograph:tomo .\nsw:astra dc:hasIdentifier \"https://github.com/astra-toolbox\" .\nsw:astra :documentedIn pb:van2015 .\nsw:astra :implements al:FBP, al:ART .\nsw:astra rdfs:label \"ASTRA tomographic toolbox\", \"ASTRA\" .\nsw:emrecon a :software .\nsw:emrecon :category algograph:tomo .\nsw:emrecon dc:hasIdentifier \"https://www.uni-muenster.de/AMM/en/Software/emrecon.shtml\" .\nsw:emrecon :documentedIn pb:Kos2011 .\nsw:emrecon :implements al:OSEM .\nsw:emrecon rdfs:label \"EMRECON - Expectation Maximization Reconstruction\", \"EMRECON\" .\nsw:tomopy a :software .\nsw:tomopy :category algograph:tomo .\nsw:tomopy dc:hasIdentifier \"https://github.com/tomopy/\" .\nsw:tomopy :implements al:FBP, al:MLEM, al:OSEM .\nsw:tomopy rdfs:label \"TOMOPY - tomographic reconstruction in Python\", \"TOMOPY\" .\n'''\ngraph = parse_graph(turtle)",
      "metadata": {
        "trusted": true
      },
      "execution_count": null,
      "outputs": []
    },
    {
      "cell_type": "code",
      "source": "visualize_graph(graph)",
      "metadata": {
        "trusted": true
      },
      "execution_count": null,
      "outputs": []
    },
    {
      "cell_type": "code",
      "source": "sparql = '''\nprefix pb: <https://mardi4nfdi.de/algodata/0.1/problem#>\nprefix : <https://mardi4nfdi.de/algodata/0.1#>\nSELECT ?problem WHERE {\n     ?problem a :problem .\n}\n'''\nprint_sparql_results(graph, sparql)",
      "metadata": {
        "trusted": true
      },
      "execution_count": null,
      "outputs": []
    },
    {
      "cell_type": "code",
      "source": "",
      "metadata": {},
      "execution_count": null,
      "outputs": []
    }
  ]
}